{
  "cells": [
    {
      "cell_type": "markdown",
      "id": "a24fe7bb",
      "metadata": {
        "papermill": {
          "duration": 0.009743,
          "end_time": "2022-09-17T11:17:13.865886",
          "exception": false,
          "start_time": "2022-09-17T11:17:13.856143",
          "status": "completed"
        },
        "tags": [],
        "id": "a24fe7bb"
      },
      "source": [
        "<a id=\"1\"></a> <br>\n",
        "# Loading "
      ]
    },
    {
      "cell_type": "code",
      "execution_count": 75,
      "id": "e3b9106a",
      "metadata": {
        "execution": {
          "iopub.execute_input": "2022-09-17T11:17:13.883885Z",
          "iopub.status.busy": "2022-09-17T11:17:13.883403Z",
          "iopub.status.idle": "2022-09-17T11:17:16.330010Z",
          "shell.execute_reply": "2022-09-17T11:17:16.328549Z"
        },
        "papermill": {
          "duration": 2.459183,
          "end_time": "2022-09-17T11:17:16.333124",
          "exception": false,
          "start_time": "2022-09-17T11:17:13.873941",
          "status": "completed"
        },
        "tags": [],
        "id": "e3b9106a"
      },
      "outputs": [],
      "source": [
        "#loading and importing data \n",
        "import numpy as np \n",
        "import pandas as pd \n",
        "import matplotlib.pyplot as plt\n",
        "import seaborn as sns\n",
        "from sklearn.model_selection import train_test_split,StratifiedKFold,GridSearchCV\n",
        "from sklearn.linear_model import LogisticRegression\n",
        "from sklearn.ensemble import RandomForestClassifier,VotingClassifier\n",
        "from sklearn.neighbors import KNeighborsClassifier\n",
        "from sklearn.tree import DecisionTreeClassifier\n",
        "from sklearn.metrics import accuracy_score\n",
        "from sklearn.metrics import confusion_matrix\n",
        "from sklearn.model_selection import GridSearchCV,RandomizedSearchCV\n",
        "from sklearn.svm import SVC\n",
        "from sklearn import metrics\n",
        "from sklearn.naive_bayes import GaussianNB\n",
        "from sklearn.metrics import make_scorer, roc_auc_score\n",
        "import scipy\n",
        "from scipy import stats\n",
        "import warnings\n",
        "warnings.filterwarnings(\"ignore\")\n",
        "from sklearn.preprocessing import StandardScaler"
      ]
    },
    {
      "cell_type": "code",
      "source": [
        "df_train=pd.read_csv('/content/Labeled_Alert_Data.csv')"
      ],
      "metadata": {
        "id": "PykWGvxvTr2H"
      },
      "id": "PykWGvxvTr2H",
      "execution_count": 76,
      "outputs": []
    },
    {
      "cell_type": "code",
      "execution_count": 77,
      "id": "7d63408e",
      "metadata": {
        "execution": {
          "iopub.execute_input": "2022-09-17T11:17:16.350854Z",
          "iopub.status.busy": "2022-09-17T11:17:16.350481Z",
          "iopub.status.idle": "2022-09-17T11:17:16.433235Z",
          "shell.execute_reply": "2022-09-17T11:17:16.432086Z"
        },
        "papermill": {
          "duration": 0.095149,
          "end_time": "2022-09-17T11:17:16.436189",
          "exception": false,
          "start_time": "2022-09-17T11:17:16.341040",
          "status": "completed"
        },
        "scrolled": true,
        "tags": [],
        "colab": {
          "base_uri": "https://localhost:8080/",
          "height": 870
        },
        "id": "7d63408e",
        "outputId": "25bc41ed-8397-4365-f09c-47741e812019"
      },
      "outputs": [
        {
          "output_type": "execute_result",
          "data": {
            "text/plain": [
              "                   Timestamp  Priority  Length  Rule_ID  \\\n",
              "0     03/28-06:03:50.679274          1    1421       11   \n",
              "1     03/28-06:03:50.737220          1    1418       11   \n",
              "2     03/28-06:03:57.083989          1    1419        9   \n",
              "3     03/28-06:03:57.083991          1    1417        9   \n",
              "4     03/28-06:03:57.084042          1     402        7   \n",
              "...                      ...       ...     ...      ...   \n",
              "6033  03/27-12:38:55.484829          1    1418       11   \n",
              "6034  03/27-12:38:59.602726          1    1917        6   \n",
              "6035  03/27-12:39:00.603982          1    1917        6   \n",
              "6036  03/27-12:39:01.605193          1    1917        6   \n",
              "6037  03/27-12:39:02.605642          1    1917        6   \n",
              "\n",
              "                                       Rule_message Protocol        Source_IP  \\\n",
              "0                           SNMP AgentX/tcp request      TCP  192.168.140.133   \n",
              "1                                  SNMP request tcp      TCP  192.168.140.133   \n",
              "2                                     SNMP trap udp      UDP  192.168.140.133   \n",
              "3                                  SNMP request udp      UDP  192.168.140.133   \n",
              "4     ICMP Destination Unreachable Port Unreachable     ICMP  192.168.140.128   \n",
              "...                                             ...      ...              ...   \n",
              "6033                               SNMP request tcp      TCP  192.168.140.133   \n",
              "6034             SCAN UPnP service discover attempt      UDP    192.168.140.1   \n",
              "6035             SCAN UPnP service discover attempt      UDP    192.168.140.1   \n",
              "6036             SCAN UPnP service discover attempt      UDP    192.168.140.1   \n",
              "6037             SCAN UPnP service discover attempt      UDP    192.168.140.1   \n",
              "\n",
              "      Source_port   Destination_IP  Destination_port  ... Payload_Lenght  TTL  \\\n",
              "0         51021.0  192.168.140.128             705.0  ...             39    0   \n",
              "1         51021.0  192.168.140.128             161.0  ...             39    0   \n",
              "2         53981.0  192.168.140.128             162.0  ...             49    0   \n",
              "3         53981.0  192.168.140.128             161.0  ...             47    0   \n",
              "4             NaN  192.168.140.133               NaN  ...             64  192   \n",
              "...           ...              ...               ...  ...            ...  ...   \n",
              "6033      43345.0    192.168.140.2             161.0  ...             40    0   \n",
              "6034      54003.0  239.255.255.250            1900.0  ...              1    0   \n",
              "6035      54003.0  239.255.255.250            1900.0  ...              1    0   \n",
              "6036      54003.0  239.255.255.250            1900.0  ...              1    0   \n",
              "6037      54003.0  239.255.255.250            1900.0  ...              1    0   \n",
              "\n",
              "         ID offset Sequence  ACK  Window Urgent_Pointer  TCP_flags   label  \n",
              "0     58457     44    45056  NaN     NaN            NaN        NaN  Attack  \n",
              "1     30173     44    45056  NaN     NaN            NaN        NaN  Attack  \n",
              "2     23766     28    28672  NaN     NaN            NaN        NaN  Attack  \n",
              "3     62685     88    90112  NaN     NaN            NaN        NaN  Attack  \n",
              "4     19088     56    57344  3.0     3.0            0.0        0.0  Normal  \n",
              "...     ...    ...      ...  ...     ...            ...        ...     ...  \n",
              "6033  17480     44    45056  NaN     NaN            NaN        NaN  Attack  \n",
              "6034  34990    198   202752  NaN     NaN            NaN        NaN  Attack  \n",
              "6035  34991    198   202752  NaN     NaN            NaN        NaN  Attack  \n",
              "6036  34992    198   202752  NaN     NaN            NaN        NaN  Attack  \n",
              "6037  34993    198   202752  NaN     NaN            NaN        NaN  Attack  \n",
              "\n",
              "[6038 rows x 28 columns]"
            ],
            "text/html": [
              "\n",
              "  <div id=\"df-e85db64a-b913-4b5a-891e-c01271545fde\">\n",
              "    <div class=\"colab-df-container\">\n",
              "      <div>\n",
              "<style scoped>\n",
              "    .dataframe tbody tr th:only-of-type {\n",
              "        vertical-align: middle;\n",
              "    }\n",
              "\n",
              "    .dataframe tbody tr th {\n",
              "        vertical-align: top;\n",
              "    }\n",
              "\n",
              "    .dataframe thead th {\n",
              "        text-align: right;\n",
              "    }\n",
              "</style>\n",
              "<table border=\"1\" class=\"dataframe\">\n",
              "  <thead>\n",
              "    <tr style=\"text-align: right;\">\n",
              "      <th></th>\n",
              "      <th>Timestamp</th>\n",
              "      <th>Priority</th>\n",
              "      <th>Length</th>\n",
              "      <th>Rule_ID</th>\n",
              "      <th>Rule_message</th>\n",
              "      <th>Protocol</th>\n",
              "      <th>Source_IP</th>\n",
              "      <th>Source_port</th>\n",
              "      <th>Destination_IP</th>\n",
              "      <th>Destination_port</th>\n",
              "      <th>...</th>\n",
              "      <th>Payload_Lenght</th>\n",
              "      <th>TTL</th>\n",
              "      <th>ID</th>\n",
              "      <th>offset</th>\n",
              "      <th>Sequence</th>\n",
              "      <th>ACK</th>\n",
              "      <th>Window</th>\n",
              "      <th>Urgent_Pointer</th>\n",
              "      <th>TCP_flags</th>\n",
              "      <th>label</th>\n",
              "    </tr>\n",
              "  </thead>\n",
              "  <tbody>\n",
              "    <tr>\n",
              "      <th>0</th>\n",
              "      <td>03/28-06:03:50.679274</td>\n",
              "      <td>1</td>\n",
              "      <td>1421</td>\n",
              "      <td>11</td>\n",
              "      <td>SNMP AgentX/tcp request</td>\n",
              "      <td>TCP</td>\n",
              "      <td>192.168.140.133</td>\n",
              "      <td>51021.0</td>\n",
              "      <td>192.168.140.128</td>\n",
              "      <td>705.0</td>\n",
              "      <td>...</td>\n",
              "      <td>39</td>\n",
              "      <td>0</td>\n",
              "      <td>58457</td>\n",
              "      <td>44</td>\n",
              "      <td>45056</td>\n",
              "      <td>NaN</td>\n",
              "      <td>NaN</td>\n",
              "      <td>NaN</td>\n",
              "      <td>NaN</td>\n",
              "      <td>Attack</td>\n",
              "    </tr>\n",
              "    <tr>\n",
              "      <th>1</th>\n",
              "      <td>03/28-06:03:50.737220</td>\n",
              "      <td>1</td>\n",
              "      <td>1418</td>\n",
              "      <td>11</td>\n",
              "      <td>SNMP request tcp</td>\n",
              "      <td>TCP</td>\n",
              "      <td>192.168.140.133</td>\n",
              "      <td>51021.0</td>\n",
              "      <td>192.168.140.128</td>\n",
              "      <td>161.0</td>\n",
              "      <td>...</td>\n",
              "      <td>39</td>\n",
              "      <td>0</td>\n",
              "      <td>30173</td>\n",
              "      <td>44</td>\n",
              "      <td>45056</td>\n",
              "      <td>NaN</td>\n",
              "      <td>NaN</td>\n",
              "      <td>NaN</td>\n",
              "      <td>NaN</td>\n",
              "      <td>Attack</td>\n",
              "    </tr>\n",
              "    <tr>\n",
              "      <th>2</th>\n",
              "      <td>03/28-06:03:57.083989</td>\n",
              "      <td>1</td>\n",
              "      <td>1419</td>\n",
              "      <td>9</td>\n",
              "      <td>SNMP trap udp</td>\n",
              "      <td>UDP</td>\n",
              "      <td>192.168.140.133</td>\n",
              "      <td>53981.0</td>\n",
              "      <td>192.168.140.128</td>\n",
              "      <td>162.0</td>\n",
              "      <td>...</td>\n",
              "      <td>49</td>\n",
              "      <td>0</td>\n",
              "      <td>23766</td>\n",
              "      <td>28</td>\n",
              "      <td>28672</td>\n",
              "      <td>NaN</td>\n",
              "      <td>NaN</td>\n",
              "      <td>NaN</td>\n",
              "      <td>NaN</td>\n",
              "      <td>Attack</td>\n",
              "    </tr>\n",
              "    <tr>\n",
              "      <th>3</th>\n",
              "      <td>03/28-06:03:57.083991</td>\n",
              "      <td>1</td>\n",
              "      <td>1417</td>\n",
              "      <td>9</td>\n",
              "      <td>SNMP request udp</td>\n",
              "      <td>UDP</td>\n",
              "      <td>192.168.140.133</td>\n",
              "      <td>53981.0</td>\n",
              "      <td>192.168.140.128</td>\n",
              "      <td>161.0</td>\n",
              "      <td>...</td>\n",
              "      <td>47</td>\n",
              "      <td>0</td>\n",
              "      <td>62685</td>\n",
              "      <td>88</td>\n",
              "      <td>90112</td>\n",
              "      <td>NaN</td>\n",
              "      <td>NaN</td>\n",
              "      <td>NaN</td>\n",
              "      <td>NaN</td>\n",
              "      <td>Attack</td>\n",
              "    </tr>\n",
              "    <tr>\n",
              "      <th>4</th>\n",
              "      <td>03/28-06:03:57.084042</td>\n",
              "      <td>1</td>\n",
              "      <td>402</td>\n",
              "      <td>7</td>\n",
              "      <td>ICMP Destination Unreachable Port Unreachable</td>\n",
              "      <td>ICMP</td>\n",
              "      <td>192.168.140.128</td>\n",
              "      <td>NaN</td>\n",
              "      <td>192.168.140.133</td>\n",
              "      <td>NaN</td>\n",
              "      <td>...</td>\n",
              "      <td>64</td>\n",
              "      <td>192</td>\n",
              "      <td>19088</td>\n",
              "      <td>56</td>\n",
              "      <td>57344</td>\n",
              "      <td>3.0</td>\n",
              "      <td>3.0</td>\n",
              "      <td>0.0</td>\n",
              "      <td>0.0</td>\n",
              "      <td>Normal</td>\n",
              "    </tr>\n",
              "    <tr>\n",
              "      <th>...</th>\n",
              "      <td>...</td>\n",
              "      <td>...</td>\n",
              "      <td>...</td>\n",
              "      <td>...</td>\n",
              "      <td>...</td>\n",
              "      <td>...</td>\n",
              "      <td>...</td>\n",
              "      <td>...</td>\n",
              "      <td>...</td>\n",
              "      <td>...</td>\n",
              "      <td>...</td>\n",
              "      <td>...</td>\n",
              "      <td>...</td>\n",
              "      <td>...</td>\n",
              "      <td>...</td>\n",
              "      <td>...</td>\n",
              "      <td>...</td>\n",
              "      <td>...</td>\n",
              "      <td>...</td>\n",
              "      <td>...</td>\n",
              "      <td>...</td>\n",
              "    </tr>\n",
              "    <tr>\n",
              "      <th>6033</th>\n",
              "      <td>03/27-12:38:55.484829</td>\n",
              "      <td>1</td>\n",
              "      <td>1418</td>\n",
              "      <td>11</td>\n",
              "      <td>SNMP request tcp</td>\n",
              "      <td>TCP</td>\n",
              "      <td>192.168.140.133</td>\n",
              "      <td>43345.0</td>\n",
              "      <td>192.168.140.2</td>\n",
              "      <td>161.0</td>\n",
              "      <td>...</td>\n",
              "      <td>40</td>\n",
              "      <td>0</td>\n",
              "      <td>17480</td>\n",
              "      <td>44</td>\n",
              "      <td>45056</td>\n",
              "      <td>NaN</td>\n",
              "      <td>NaN</td>\n",
              "      <td>NaN</td>\n",
              "      <td>NaN</td>\n",
              "      <td>Attack</td>\n",
              "    </tr>\n",
              "    <tr>\n",
              "      <th>6034</th>\n",
              "      <td>03/27-12:38:59.602726</td>\n",
              "      <td>1</td>\n",
              "      <td>1917</td>\n",
              "      <td>6</td>\n",
              "      <td>SCAN UPnP service discover attempt</td>\n",
              "      <td>UDP</td>\n",
              "      <td>192.168.140.1</td>\n",
              "      <td>54003.0</td>\n",
              "      <td>239.255.255.250</td>\n",
              "      <td>1900.0</td>\n",
              "      <td>...</td>\n",
              "      <td>1</td>\n",
              "      <td>0</td>\n",
              "      <td>34990</td>\n",
              "      <td>198</td>\n",
              "      <td>202752</td>\n",
              "      <td>NaN</td>\n",
              "      <td>NaN</td>\n",
              "      <td>NaN</td>\n",
              "      <td>NaN</td>\n",
              "      <td>Attack</td>\n",
              "    </tr>\n",
              "    <tr>\n",
              "      <th>6035</th>\n",
              "      <td>03/27-12:39:00.603982</td>\n",
              "      <td>1</td>\n",
              "      <td>1917</td>\n",
              "      <td>6</td>\n",
              "      <td>SCAN UPnP service discover attempt</td>\n",
              "      <td>UDP</td>\n",
              "      <td>192.168.140.1</td>\n",
              "      <td>54003.0</td>\n",
              "      <td>239.255.255.250</td>\n",
              "      <td>1900.0</td>\n",
              "      <td>...</td>\n",
              "      <td>1</td>\n",
              "      <td>0</td>\n",
              "      <td>34991</td>\n",
              "      <td>198</td>\n",
              "      <td>202752</td>\n",
              "      <td>NaN</td>\n",
              "      <td>NaN</td>\n",
              "      <td>NaN</td>\n",
              "      <td>NaN</td>\n",
              "      <td>Attack</td>\n",
              "    </tr>\n",
              "    <tr>\n",
              "      <th>6036</th>\n",
              "      <td>03/27-12:39:01.605193</td>\n",
              "      <td>1</td>\n",
              "      <td>1917</td>\n",
              "      <td>6</td>\n",
              "      <td>SCAN UPnP service discover attempt</td>\n",
              "      <td>UDP</td>\n",
              "      <td>192.168.140.1</td>\n",
              "      <td>54003.0</td>\n",
              "      <td>239.255.255.250</td>\n",
              "      <td>1900.0</td>\n",
              "      <td>...</td>\n",
              "      <td>1</td>\n",
              "      <td>0</td>\n",
              "      <td>34992</td>\n",
              "      <td>198</td>\n",
              "      <td>202752</td>\n",
              "      <td>NaN</td>\n",
              "      <td>NaN</td>\n",
              "      <td>NaN</td>\n",
              "      <td>NaN</td>\n",
              "      <td>Attack</td>\n",
              "    </tr>\n",
              "    <tr>\n",
              "      <th>6037</th>\n",
              "      <td>03/27-12:39:02.605642</td>\n",
              "      <td>1</td>\n",
              "      <td>1917</td>\n",
              "      <td>6</td>\n",
              "      <td>SCAN UPnP service discover attempt</td>\n",
              "      <td>UDP</td>\n",
              "      <td>192.168.140.1</td>\n",
              "      <td>54003.0</td>\n",
              "      <td>239.255.255.250</td>\n",
              "      <td>1900.0</td>\n",
              "      <td>...</td>\n",
              "      <td>1</td>\n",
              "      <td>0</td>\n",
              "      <td>34993</td>\n",
              "      <td>198</td>\n",
              "      <td>202752</td>\n",
              "      <td>NaN</td>\n",
              "      <td>NaN</td>\n",
              "      <td>NaN</td>\n",
              "      <td>NaN</td>\n",
              "      <td>Attack</td>\n",
              "    </tr>\n",
              "  </tbody>\n",
              "</table>\n",
              "<p>6038 rows × 28 columns</p>\n",
              "</div>\n",
              "      <button class=\"colab-df-convert\" onclick=\"convertToInteractive('df-e85db64a-b913-4b5a-891e-c01271545fde')\"\n",
              "              title=\"Convert this dataframe to an interactive table.\"\n",
              "              style=\"display:none;\">\n",
              "        \n",
              "  <svg xmlns=\"http://www.w3.org/2000/svg\" height=\"24px\"viewBox=\"0 0 24 24\"\n",
              "       width=\"24px\">\n",
              "    <path d=\"M0 0h24v24H0V0z\" fill=\"none\"/>\n",
              "    <path d=\"M18.56 5.44l.94 2.06.94-2.06 2.06-.94-2.06-.94-.94-2.06-.94 2.06-2.06.94zm-11 1L8.5 8.5l.94-2.06 2.06-.94-2.06-.94L8.5 2.5l-.94 2.06-2.06.94zm10 10l.94 2.06.94-2.06 2.06-.94-2.06-.94-.94-2.06-.94 2.06-2.06.94z\"/><path d=\"M17.41 7.96l-1.37-1.37c-.4-.4-.92-.59-1.43-.59-.52 0-1.04.2-1.43.59L10.3 9.45l-7.72 7.72c-.78.78-.78 2.05 0 2.83L4 21.41c.39.39.9.59 1.41.59.51 0 1.02-.2 1.41-.59l7.78-7.78 2.81-2.81c.8-.78.8-2.07 0-2.86zM5.41 20L4 18.59l7.72-7.72 1.47 1.35L5.41 20z\"/>\n",
              "  </svg>\n",
              "      </button>\n",
              "      \n",
              "  <style>\n",
              "    .colab-df-container {\n",
              "      display:flex;\n",
              "      flex-wrap:wrap;\n",
              "      gap: 12px;\n",
              "    }\n",
              "\n",
              "    .colab-df-convert {\n",
              "      background-color: #E8F0FE;\n",
              "      border: none;\n",
              "      border-radius: 50%;\n",
              "      cursor: pointer;\n",
              "      display: none;\n",
              "      fill: #1967D2;\n",
              "      height: 32px;\n",
              "      padding: 0 0 0 0;\n",
              "      width: 32px;\n",
              "    }\n",
              "\n",
              "    .colab-df-convert:hover {\n",
              "      background-color: #E2EBFA;\n",
              "      box-shadow: 0px 1px 2px rgba(60, 64, 67, 0.3), 0px 1px 3px 1px rgba(60, 64, 67, 0.15);\n",
              "      fill: #174EA6;\n",
              "    }\n",
              "\n",
              "    [theme=dark] .colab-df-convert {\n",
              "      background-color: #3B4455;\n",
              "      fill: #D2E3FC;\n",
              "    }\n",
              "\n",
              "    [theme=dark] .colab-df-convert:hover {\n",
              "      background-color: #434B5C;\n",
              "      box-shadow: 0px 1px 3px 1px rgba(0, 0, 0, 0.15);\n",
              "      filter: drop-shadow(0px 1px 2px rgba(0, 0, 0, 0.3));\n",
              "      fill: #FFFFFF;\n",
              "    }\n",
              "  </style>\n",
              "\n",
              "      <script>\n",
              "        const buttonEl =\n",
              "          document.querySelector('#df-e85db64a-b913-4b5a-891e-c01271545fde button.colab-df-convert');\n",
              "        buttonEl.style.display =\n",
              "          google.colab.kernel.accessAllowed ? 'block' : 'none';\n",
              "\n",
              "        async function convertToInteractive(key) {\n",
              "          const element = document.querySelector('#df-e85db64a-b913-4b5a-891e-c01271545fde');\n",
              "          const dataTable =\n",
              "            await google.colab.kernel.invokeFunction('convertToInteractive',\n",
              "                                                     [key], {});\n",
              "          if (!dataTable) return;\n",
              "\n",
              "          const docLinkHtml = 'Like what you see? Visit the ' +\n",
              "            '<a target=\"_blank\" href=https://colab.research.google.com/notebooks/data_table.ipynb>data table notebook</a>'\n",
              "            + ' to learn more about interactive tables.';\n",
              "          element.innerHTML = '';\n",
              "          dataTable['output_type'] = 'display_data';\n",
              "          await google.colab.output.renderOutput(dataTable, element);\n",
              "          const docLink = document.createElement('div');\n",
              "          docLink.innerHTML = docLinkHtml;\n",
              "          element.appendChild(docLink);\n",
              "        }\n",
              "      </script>\n",
              "    </div>\n",
              "  </div>\n",
              "  "
            ]
          },
          "metadata": {},
          "execution_count": 77
        }
      ],
      "source": [
        "df_train"
      ]
    },
    {
      "cell_type": "code",
      "execution_count": 78,
      "id": "2d968eb4",
      "metadata": {
        "execution": {
          "iopub.execute_input": "2022-09-17T11:17:16.454614Z",
          "iopub.status.busy": "2022-09-17T11:17:16.454211Z",
          "iopub.status.idle": "2022-09-17T11:17:16.510708Z",
          "shell.execute_reply": "2022-09-17T11:17:16.508698Z"
        },
        "papermill": {
          "duration": 0.068882,
          "end_time": "2022-09-17T11:17:16.513469",
          "exception": false,
          "start_time": "2022-09-17T11:17:16.444587",
          "status": "completed"
        },
        "scrolled": true,
        "tags": [],
        "colab": {
          "base_uri": "https://localhost:8080/"
        },
        "id": "2d968eb4",
        "outputId": "ed7a3812-39b8-4456-f914-d6a45a22f29c"
      },
      "outputs": [
        {
          "output_type": "stream",
          "name": "stdout",
          "text": [
            "<class 'pandas.core.frame.DataFrame'>\n",
            "RangeIndex: 6038 entries, 0 to 6037\n",
            "Data columns (total 28 columns):\n",
            " #   Column              Non-Null Count  Dtype  \n",
            "---  ------              --------------  -----  \n",
            " 0   Timestamp           6038 non-null   object \n",
            " 1   Priority            6038 non-null   int64  \n",
            " 2   Length              6038 non-null   int64  \n",
            " 3   Rule_ID             6038 non-null   int64  \n",
            " 4   Rule_message        6038 non-null   object \n",
            " 5   Protocol            6038 non-null   object \n",
            " 6   Source_IP           6038 non-null   object \n",
            " 7   Source_port         259 non-null    float64\n",
            " 8   Destination_IP      6038 non-null   object \n",
            " 9   Destination_port    259 non-null    float64\n",
            " 10  Source_MAC          6038 non-null   object \n",
            " 11  Destination_MAC     6038 non-null   object \n",
            " 12  Vlan_Id             6038 non-null   object \n",
            " 13  IPv6_Source         116 non-null    object \n",
            " 14  IPv6_Destination    116 non-null    object \n",
            " 15  IPv6_Traffic_Class  116 non-null    object \n",
            " 16  IPv6_Flow_Label     0 non-null      float64\n",
            " 17  Payload             116 non-null    object \n",
            " 18  Payload_Lenght      6038 non-null   int64  \n",
            " 19  TTL                 6038 non-null   int64  \n",
            " 20  ID                  6038 non-null   int64  \n",
            " 21  offset              6038 non-null   int64  \n",
            " 22  Sequence            6038 non-null   int64  \n",
            " 23  ACK                 5779 non-null   float64\n",
            " 24  Window              5779 non-null   float64\n",
            " 25  Urgent_Pointer      5779 non-null   float64\n",
            " 26  TCP_flags           5779 non-null   float64\n",
            " 27  label               6038 non-null   object \n",
            "dtypes: float64(7), int64(8), object(13)\n",
            "memory usage: 1.3+ MB\n"
          ]
        }
      ],
      "source": [
        "# information of our data\n",
        "df_train.info()"
      ]
    },
    {
      "cell_type": "markdown",
      "id": "89efd431",
      "metadata": {
        "papermill": {
          "duration": 0.008132,
          "end_time": "2022-09-17T11:17:16.530135",
          "exception": false,
          "start_time": "2022-09-17T11:17:16.522003",
          "status": "completed"
        },
        "tags": [],
        "id": "89efd431"
      },
      "source": [
        "<a id=\"2\"></a> <br>\n",
        "# Check for duplicates"
      ]
    },
    {
      "cell_type": "code",
      "execution_count": 79,
      "id": "390de378",
      "metadata": {
        "execution": {
          "iopub.execute_input": "2022-09-17T11:17:16.551126Z",
          "iopub.status.busy": "2022-09-17T11:17:16.549994Z",
          "iopub.status.idle": "2022-09-17T11:17:16.740140Z",
          "shell.execute_reply": "2022-09-17T11:17:16.738593Z"
        },
        "papermill": {
          "duration": 0.20428,
          "end_time": "2022-09-17T11:17:16.742758",
          "exception": false,
          "start_time": "2022-09-17T11:17:16.538478",
          "status": "completed"
        },
        "tags": [],
        "colab": {
          "base_uri": "https://localhost:8080/"
        },
        "id": "390de378",
        "outputId": "2785dcb1-d93c-4dce-8032-c23f2ca452cf"
      },
      "outputs": [
        {
          "output_type": "stream",
          "name": "stdout",
          "text": [
            "0\n"
          ]
        }
      ],
      "source": [
        "print(df_train.duplicated().sum())"
      ]
    },
    {
      "cell_type": "code",
      "source": [
        "df_train['Source_port'] = df_train['Source_port'].fillna(0)\n",
        "df_train['Destination_port'] = df_train['Destination_port'].fillna(0)"
      ],
      "metadata": {
        "id": "9y2RM_5IUrTX"
      },
      "id": "9y2RM_5IUrTX",
      "execution_count": 80,
      "outputs": []
    },
    {
      "cell_type": "code",
      "source": [
        "df_train.drop(['IPv6_Source'], axis=1,inplace=True)\n",
        "df_train.drop(['IPv6_Destination'], axis=1,inplace=True)   \n",
        "df_train.drop(['IPv6_Traffic_Class'], axis=1,inplace=True)\n",
        "df_train.drop(['IPv6_Flow_Label'], axis=1,inplace=True)\n",
        "df_train.drop(['Payload'], axis=1,inplace=True)  "
      ],
      "metadata": {
        "id": "j2b4xpooWEfA"
      },
      "id": "j2b4xpooWEfA",
      "execution_count": 81,
      "outputs": []
    },
    {
      "cell_type": "code",
      "source": [
        "df_train['ACK'] = df_train['Source_port'].fillna(0)\n",
        "df_train['Window'] = df_train['Window'].fillna(0)\n",
        "df_train['Urgent_Pointer'] = df_train['Urgent_Pointer'].fillna(0)\n",
        "df_train['TCP_flags'] = df_train['TCP_flags'].fillna(0)"
      ],
      "metadata": {
        "id": "9aUKuJwxWdJg"
      },
      "id": "9aUKuJwxWdJg",
      "execution_count": 82,
      "outputs": []
    },
    {
      "cell_type": "code",
      "source": [
        "df_train.drop(['Timestamp'], axis=1,inplace=True) "
      ],
      "metadata": {
        "id": "MMN23cYlYGdj"
      },
      "id": "MMN23cYlYGdj",
      "execution_count": 83,
      "outputs": []
    },
    {
      "cell_type": "code",
      "execution_count": 84,
      "id": "d0e59456",
      "metadata": {
        "execution": {
          "iopub.execute_input": "2022-09-17T11:17:16.761589Z",
          "iopub.status.busy": "2022-09-17T11:17:16.761170Z",
          "iopub.status.idle": "2022-09-17T11:17:16.765847Z",
          "shell.execute_reply": "2022-09-17T11:17:16.764779Z"
        },
        "papermill": {
          "duration": 0.016639,
          "end_time": "2022-09-17T11:17:16.767888",
          "exception": false,
          "start_time": "2022-09-17T11:17:16.751249",
          "status": "completed"
        },
        "tags": [],
        "id": "d0e59456"
      },
      "outputs": [],
      "source": [
        "# Check for nissing data"
      ]
    },
    {
      "cell_type": "code",
      "execution_count": 85,
      "id": "9140b407",
      "metadata": {
        "execution": {
          "iopub.execute_input": "2022-09-17T11:17:16.787634Z",
          "iopub.status.busy": "2022-09-17T11:17:16.786606Z",
          "iopub.status.idle": "2022-09-17T11:17:16.827243Z",
          "shell.execute_reply": "2022-09-17T11:17:16.825980Z"
        },
        "papermill": {
          "duration": 0.053269,
          "end_time": "2022-09-17T11:17:16.829729",
          "exception": false,
          "start_time": "2022-09-17T11:17:16.776460",
          "status": "completed"
        },
        "tags": [],
        "colab": {
          "base_uri": "https://localhost:8080/"
        },
        "id": "9140b407",
        "outputId": "6227d190-1466-494b-c15d-9cfeb75a8b6c"
      },
      "outputs": [
        {
          "output_type": "execute_result",
          "data": {
            "text/plain": [
              "Priority            0\n",
              "Length              0\n",
              "Rule_ID             0\n",
              "Rule_message        0\n",
              "Protocol            0\n",
              "Source_IP           0\n",
              "Source_port         0\n",
              "Destination_IP      0\n",
              "Destination_port    0\n",
              "Source_MAC          0\n",
              "Destination_MAC     0\n",
              "Vlan_Id             0\n",
              "Payload_Lenght      0\n",
              "TTL                 0\n",
              "ID                  0\n",
              "offset              0\n",
              "Sequence            0\n",
              "ACK                 0\n",
              "Window              0\n",
              "Urgent_Pointer      0\n",
              "TCP_flags           0\n",
              "label               0\n",
              "dtype: int64"
            ]
          },
          "metadata": {},
          "execution_count": 85
        }
      ],
      "source": [
        "df_train.isnull().sum()"
      ]
    },
    {
      "cell_type": "markdown",
      "id": "70c13e07",
      "metadata": {
        "execution": {
          "iopub.execute_input": "2022-09-17T11:04:08.446553Z",
          "iopub.status.busy": "2022-09-17T11:04:08.446006Z",
          "iopub.status.idle": "2022-09-17T11:04:08.452072Z",
          "shell.execute_reply": "2022-09-17T11:04:08.450716Z",
          "shell.execute_reply.started": "2022-09-17T11:04:08.446515Z"
        },
        "papermill": {
          "duration": 0.008465,
          "end_time": "2022-09-17T11:17:16.846974",
          "exception": false,
          "start_time": "2022-09-17T11:17:16.838509",
          "status": "completed"
        },
        "tags": [],
        "id": "70c13e07"
      },
      "source": [
        "<a id=\"3\"></a> <br>\n",
        "# checking for outliers"
      ]
    },
    {
      "cell_type": "code",
      "execution_count": 86,
      "id": "526310de",
      "metadata": {
        "execution": {
          "iopub.execute_input": "2022-09-17T11:17:16.866565Z",
          "iopub.status.busy": "2022-09-17T11:17:16.866137Z",
          "iopub.status.idle": "2022-09-17T11:17:21.113109Z",
          "shell.execute_reply": "2022-09-17T11:17:21.112135Z"
        },
        "papermill": {
          "duration": 4.260812,
          "end_time": "2022-09-17T11:17:21.116516",
          "exception": false,
          "start_time": "2022-09-17T11:17:16.855704",
          "status": "completed"
        },
        "tags": [],
        "colab": {
          "base_uri": "https://localhost:8080/",
          "height": 576
        },
        "id": "526310de",
        "outputId": "f8374f1e-450c-448e-8206-d845fda6fd3a"
      },
      "outputs": [
        {
          "output_type": "display_data",
          "data": {
            "text/plain": [
              "<Figure size 1440x2880 with 45 Axes>"
            ],
            "image/png": "[encoded data removed]"
          },
          "metadata": {
            "needs_background": "light"
          }
        }
      ],
      "source": [
        "#Boxplot of all columns to see outliers\n",
        "df_train.plot(kind='box',subplots=1,layout=(15,3),figsize=(20,40))\n",
        "plt.show()"
      ]
    },
    {
      "cell_type": "code",
      "execution_count": 86,
      "id": "8c877720",
      "metadata": {
        "papermill": {
          "duration": 0.010747,
          "end_time": "2022-09-17T11:17:21.138602",
          "exception": false,
          "start_time": "2022-09-17T11:17:21.127855",
          "status": "completed"
        },
        "tags": [],
        "id": "8c877720"
      },
      "outputs": [],
      "source": []
    },
    {
      "cell_type": "code",
      "execution_count": 87,
      "id": "89491dea",
      "metadata": {
        "execution": {
          "iopub.execute_input": "2022-09-17T11:17:21.163099Z",
          "iopub.status.busy": "2022-09-17T11:17:21.161823Z",
          "iopub.status.idle": "2022-09-17T11:17:21.179126Z",
          "shell.execute_reply": "2022-09-17T11:17:21.177872Z"
        },
        "papermill": {
          "duration": 0.032485,
          "end_time": "2022-09-17T11:17:21.181756",
          "exception": false,
          "start_time": "2022-09-17T11:17:21.149271",
          "status": "completed"
        },
        "tags": [],
        "colab": {
          "base_uri": "https://localhost:8080/"
        },
        "id": "89491dea",
        "outputId": "03459315-1b39-413a-e55d-1ed08bf9425b"
      },
      "outputs": [
        {
          "output_type": "execute_result",
          "data": {
            "text/plain": [
              "Normal    5689\n",
              "Attack     349\n",
              "Name: label, dtype: int64"
            ]
          },
          "metadata": {},
          "execution_count": 87
        }
      ],
      "source": [
        "df_train['label'].value_counts()"
      ]
    },
    {
      "cell_type": "code",
      "execution_count": 88,
      "id": "38c0c966",
      "metadata": {
        "execution": {
          "iopub.execute_input": "2022-09-17T11:17:21.324952Z",
          "iopub.status.busy": "2022-09-17T11:17:21.324542Z",
          "iopub.status.idle": "2022-09-17T11:17:21.341290Z",
          "shell.execute_reply": "2022-09-17T11:17:21.340097Z"
        },
        "papermill": {
          "duration": 0.031236,
          "end_time": "2022-09-17T11:17:21.343719",
          "exception": false,
          "start_time": "2022-09-17T11:17:21.312483",
          "status": "completed"
        },
        "tags": [],
        "colab": {
          "base_uri": "https://localhost:8080/"
        },
        "id": "38c0c966",
        "outputId": "ef2a49b1-4cd7-4406-fa1a-274f1771777c"
      },
      "outputs": [
        {
          "output_type": "execute_result",
          "data": {
            "text/plain": [
              "Index(['Rule_message', 'Protocol', 'Source_IP', 'Destination_IP', 'Source_MAC',\n",
              "       'Destination_MAC', 'Vlan_Id', 'label'],\n",
              "      dtype='object')"
            ]
          },
          "metadata": {},
          "execution_count": 88
        }
      ],
      "source": [
        "df_train.select_dtypes(['object']).columns"
      ]
    },
    {
      "cell_type": "markdown",
      "id": "1eed913f",
      "metadata": {
        "papermill": {
          "duration": 0.010243,
          "end_time": "2022-09-17T11:17:21.364776",
          "exception": false,
          "start_time": "2022-09-17T11:17:21.354533",
          "status": "completed"
        },
        "tags": [],
        "id": "1eed913f"
      },
      "source": [
        "<a id=\"4\"></a> <br>\n",
        "# Encoding"
      ]
    },
    {
      "cell_type": "code",
      "execution_count": 89,
      "id": "561d4d47",
      "metadata": {
        "execution": {
          "iopub.execute_input": "2022-09-17T11:17:21.388188Z",
          "iopub.status.busy": "2022-09-17T11:17:21.387712Z",
          "iopub.status.idle": "2022-09-17T11:17:21.542888Z",
          "shell.execute_reply": "2022-09-17T11:17:21.541349Z"
        },
        "papermill": {
          "duration": 0.170279,
          "end_time": "2022-09-17T11:17:21.545650",
          "exception": false,
          "start_time": "2022-09-17T11:17:21.375371",
          "status": "completed"
        },
        "tags": [],
        "id": "561d4d47"
      },
      "outputs": [],
      "source": [
        "# Label Encoder\n",
        "from sklearn import preprocessing\n",
        "le=preprocessing.LabelEncoder()\n",
        "clm=['Rule_message', 'Protocol', 'Source_IP', 'Destination_IP', 'Source_MAC',\n",
        "       'Destination_MAC', 'Vlan_Id', 'label']\n",
        "for x in clm:\n",
        "    df_train[x]=le.fit_transform(df_train[x])\n",
        "    "
      ]
    },
    {
      "cell_type": "markdown",
      "id": "4b94166f",
      "metadata": {
        "papermill": {
          "duration": 0.01114,
          "end_time": "2022-09-17T11:17:21.567693",
          "exception": false,
          "start_time": "2022-09-17T11:17:21.556553",
          "status": "completed"
        },
        "tags": [],
        "id": "4b94166f"
      },
      "source": [
        "<a id=\"5\"></a> <br>\n",
        "# Spliting "
      ]
    },
    {
      "cell_type": "code",
      "execution_count": 90,
      "id": "d5011fa2",
      "metadata": {
        "execution": {
          "iopub.execute_input": "2022-09-17T11:17:21.593187Z",
          "iopub.status.busy": "2022-09-17T11:17:21.591739Z",
          "iopub.status.idle": "2022-09-17T11:17:21.641101Z",
          "shell.execute_reply": "2022-09-17T11:17:21.639709Z"
        },
        "papermill": {
          "duration": 0.065327,
          "end_time": "2022-09-17T11:17:21.644015",
          "exception": false,
          "start_time": "2022-09-17T11:17:21.578688",
          "status": "completed"
        },
        "tags": [],
        "id": "d5011fa2"
      },
      "outputs": [],
      "source": [
        "#Spliting the data\n",
        "\n",
        "x_train=df_train.drop('label',axis=1)\n",
        "y_train=df_train[\"label\"]\n",
        "\n",
        "\n"
      ]
    },
    {
      "cell_type": "markdown",
      "id": "f5c8dd0d",
      "metadata": {
        "papermill": {
          "duration": 0.010777,
          "end_time": "2022-09-17T11:17:21.665881",
          "exception": false,
          "start_time": "2022-09-17T11:17:21.655104",
          "status": "completed"
        },
        "tags": [],
        "id": "f5c8dd0d"
      },
      "source": [
        "<a id=\"6\"></a> <br>\n",
        "# Feature Engineering"
      ]
    },
    {
      "cell_type": "code",
      "execution_count": 64,
      "id": "4ab671db",
      "metadata": {
        "execution": {
          "iopub.execute_input": "2022-09-17T11:17:21.689764Z",
          "iopub.status.busy": "2022-09-17T11:17:21.689330Z",
          "iopub.status.idle": "2022-09-17T11:17:51.286292Z",
          "shell.execute_reply": "2022-09-17T11:17:51.285474Z"
        },
        "papermill": {
          "duration": 29.61105,
          "end_time": "2022-09-17T11:17:51.288259",
          "exception": false,
          "start_time": "2022-09-17T11:17:21.677209",
          "status": "completed"
        },
        "tags": [],
        "colab": {
          "base_uri": "https://localhost:8080/"
        },
        "id": "4ab671db",
        "outputId": "c19fa99c-8843-453b-bae3-04096a7b5644"
      },
      "outputs": [
        {
          "output_type": "execute_result",
          "data": {
            "text/plain": [
              "TTL                 0.222280\n",
              "Window              0.221618\n",
              "Rule_message        0.221425\n",
              "Length              0.220955\n",
              "Sequence            0.218233\n",
              "offset              0.218111\n",
              "Vlan_Id             0.216566\n",
              "Source_IP           0.175494\n",
              "Destination_IP      0.175442\n",
              "Destination_MAC     0.174837\n",
              "Rule_ID             0.173828\n",
              "Source_MAC          0.172743\n",
              "Protocol            0.147976\n",
              "Destination_port    0.140917\n",
              "Source_port         0.139553\n",
              "ACK                 0.138559\n",
              "Payload_Lenght      0.136463\n",
              "ID                  0.071527\n",
              "Urgent_Pointer      0.043512\n",
              "TCP_flags           0.040884\n",
              "Priority            0.000000\n",
              "dtype: float64"
            ]
          },
          "metadata": {},
          "execution_count": 64
        }
      ],
      "source": [
        "from sklearn.feature_selection import mutual_info_classif\n",
        "mutual_info = mutual_info_classif(x_train, y_train)\n",
        "mutual_info = pd.Series(mutual_info)\n",
        "mutual_info.index = x_train.columns\n",
        "mutual_info.sort_values(ascending=False)"
      ]
    },
    {
      "cell_type": "code",
      "execution_count": 65,
      "id": "4c738f7b",
      "metadata": {
        "execution": {
          "iopub.execute_input": "2022-09-17T11:17:51.312221Z",
          "iopub.status.busy": "2022-09-17T11:17:51.311787Z",
          "iopub.status.idle": "2022-09-17T11:17:51.794989Z",
          "shell.execute_reply": "2022-09-17T11:17:51.793999Z"
        },
        "papermill": {
          "duration": 0.498205,
          "end_time": "2022-09-17T11:17:51.797667",
          "exception": false,
          "start_time": "2022-09-17T11:17:51.299462",
          "status": "completed"
        },
        "scrolled": true,
        "tags": [],
        "colab": {
          "base_uri": "https://localhost:8080/",
          "height": 432
        },
        "id": "4c738f7b",
        "outputId": "2d5087b0-04b8-49e3-ada3-9e73525e0df2"
      },
      "outputs": [
        {
          "output_type": "display_data",
          "data": {
            "text/plain": [
              "<Figure size 1440x576 with 1 Axes>"
            ],
            "image/png": "[encoded data removed]"
          },
          "metadata": {
            "needs_background": "light"
          }
        }
      ],
      "source": [
        "mutual_info.sort_values(ascending=False).plot.bar(figsize=(20, 8));\n"
      ]
    },
    {
      "cell_type": "code",
      "execution_count": 66,
      "id": "efa31b00",
      "metadata": {
        "execution": {
          "iopub.execute_input": "2022-09-17T11:17:51.824123Z",
          "iopub.status.busy": "2022-09-17T11:17:51.823136Z",
          "iopub.status.idle": "2022-09-17T11:18:21.669833Z",
          "shell.execute_reply": "2022-09-17T11:18:21.668481Z"
        },
        "papermill": {
          "duration": 29.862762,
          "end_time": "2022-09-17T11:18:21.672519",
          "exception": false,
          "start_time": "2022-09-17T11:17:51.809757",
          "status": "completed"
        },
        "tags": [],
        "colab": {
          "base_uri": "https://localhost:8080/"
        },
        "id": "efa31b00",
        "outputId": "4c82aa74-f5a5-43df-c150-37378b2e50ca"
      },
      "outputs": [
        {
          "output_type": "execute_result",
          "data": {
            "text/plain": [
              "Index(['Length', 'Rule_ID', 'Rule_message', 'Protocol', 'Source_IP',\n",
              "       'Source_port', 'Destination_IP', 'Destination_port', 'Source_MAC',\n",
              "       'Destination_MAC', 'Vlan_Id', 'Payload_Lenght', 'TTL', 'offset',\n",
              "       'Sequence', 'ACK', 'Window'],\n",
              "      dtype='object')"
            ]
          },
          "metadata": {},
          "execution_count": 66
        }
      ],
      "source": [
        "# I will choose 17 features to select\n",
        "# from sklearn.feature_selection import SelectKBest\n",
        "# sel_five_cols = SelectKBest(mutual_info_classif, k=17)\n",
        "# sel_five_cols.fit(x_train, y_train)\n",
        "# x_train.columns[sel_five_cols.get_support()]"
      ]
    },
    {
      "cell_type": "code",
      "execution_count": 67,
      "id": "39fc5351",
      "metadata": {
        "execution": {
          "iopub.execute_input": "2022-09-17T11:18:21.698433Z",
          "iopub.status.busy": "2022-09-17T11:18:21.698042Z",
          "iopub.status.idle": "2022-09-17T11:18:21.708904Z",
          "shell.execute_reply": "2022-09-17T11:18:21.707600Z"
        },
        "papermill": {
          "duration": 0.026587,
          "end_time": "2022-09-17T11:18:21.711157",
          "exception": false,
          "start_time": "2022-09-17T11:18:21.684570",
          "status": "completed"
        },
        "tags": [],
        "id": "39fc5351"
      },
      "outputs": [],
      "source": [
        "# col=['Length', 'Rule_ID', 'Rule_message', 'Protocol', 'Source_IP',\n",
        "#        'Source_port', 'Destination_IP', 'Destination_port', 'Source_MAC',\n",
        "#        'Destination_MAC', 'Vlan_Id', 'Payload_Lenght', 'TTL', 'offset',\n",
        "#        'Sequence', 'ACK', 'Window']\n",
        "# x_train=x_train[col]"
      ]
    },
    {
      "cell_type": "code",
      "execution_count": 68,
      "id": "8024074b",
      "metadata": {
        "execution": {
          "iopub.execute_input": "2022-09-17T11:18:21.738328Z",
          "iopub.status.busy": "2022-09-17T11:18:21.737882Z",
          "iopub.status.idle": "2022-09-17T11:18:22.813017Z",
          "shell.execute_reply": "2022-09-17T11:18:22.811467Z"
        },
        "papermill": {
          "duration": 1.092935,
          "end_time": "2022-09-17T11:18:22.816059",
          "exception": false,
          "start_time": "2022-09-17T11:18:21.723124",
          "status": "completed"
        },
        "scrolled": true,
        "tags": [],
        "colab": {
          "base_uri": "https://localhost:8080/",
          "height": 670
        },
        "id": "8024074b",
        "outputId": "722a0780-6841-4575-cb6a-39f11c431775"
      },
      "outputs": [
        {
          "output_type": "display_data",
          "data": {
            "text/plain": [
              "<Figure size 864x720 with 2 Axes>"
            ],
            "image/png": "[encoded data removed]"
          },
          "metadata": {
            "needs_background": "light"
          }
        }
      ],
      "source": [
        "plt.figure(figsize=(12,10))\n",
        "p=sns.heatmap(x_train.corr(), annot=True,cmap ='RdYlGn')  "
      ]
    },
    {
      "cell_type": "code",
      "source": [
        "from imblearn.over_sampling import SMOTE\n",
        "\n",
        "# Define X and y (assuming X contains the numerical data and y contains the class labels)\n",
        "# X = ...\n",
        "# y = ...\n",
        "\n",
        "# Instantiate SMOTE object\n",
        "smote = SMOTE()\n",
        "\n",
        "# Resample the data\n",
        "X_resampled, y_resampled = smote.fit_resample(x_train, y_train)"
      ],
      "metadata": {
        "id": "Ob6eqGGxaoSw"
      },
      "id": "Ob6eqGGxaoSw",
      "execution_count": 95,
      "outputs": []
    },
    {
      "cell_type": "code",
      "source": [
        "x_train, x_test, y_train, y_test=train_test_split(X_resampled,y_resampled, test_size = 0.3)"
      ],
      "metadata": {
        "id": "0TuUYNF8Zm9j"
      },
      "id": "0TuUYNF8Zm9j",
      "execution_count": 112,
      "outputs": []
    },
    {
      "cell_type": "markdown",
      "id": "18d40d22",
      "metadata": {
        "papermill": {
          "duration": 0.013591,
          "end_time": "2022-09-17T11:18:22.843353",
          "exception": false,
          "start_time": "2022-09-17T11:18:22.829762",
          "status": "completed"
        },
        "tags": [],
        "id": "18d40d22"
      },
      "source": [
        "<a id=\"7\"></a> <br>\n",
        "# Scaling"
      ]
    },
    {
      "cell_type": "code",
      "execution_count": 108,
      "id": "7df99659",
      "metadata": {
        "execution": {
          "iopub.execute_input": "2022-09-17T11:18:22.873086Z",
          "iopub.status.busy": "2022-09-17T11:18:22.872377Z",
          "iopub.status.idle": "2022-09-17T11:18:22.900633Z",
          "shell.execute_reply": "2022-09-17T11:18:22.899359Z"
        },
        "papermill": {
          "duration": 0.045631,
          "end_time": "2022-09-17T11:18:22.903371",
          "exception": false,
          "start_time": "2022-09-17T11:18:22.857740",
          "status": "completed"
        },
        "tags": [],
        "id": "7df99659"
      },
      "outputs": [],
      "source": [
        "# from sklearn.preprocessing import MinMaxScaler\n",
        "# scaler = MinMaxScaler()\n",
        "# x_train= scaler.fit_transform(x_train)\n",
        "# x_test= scaler.fit_transform(x_test)"
      ]
    },
    {
      "cell_type": "markdown",
      "id": "64958890",
      "metadata": {
        "papermill": {
          "duration": 0.012631,
          "end_time": "2022-09-17T11:18:22.929089",
          "exception": false,
          "start_time": "2022-09-17T11:18:22.916458",
          "status": "completed"
        },
        "tags": [],
        "id": "64958890"
      },
      "source": [
        "<a id=\"8\"></a> <br>\n",
        "# Binary classification models"
      ]
    },
    {
      "cell_type": "code",
      "execution_count": 119,
      "id": "200d3ce2",
      "metadata": {
        "execution": {
          "iopub.execute_input": "2022-09-17T11:18:22.956736Z",
          "iopub.status.busy": "2022-09-17T11:18:22.956347Z",
          "iopub.status.idle": "2022-09-17T11:18:22.964737Z",
          "shell.execute_reply": "2022-09-17T11:18:22.963329Z"
        },
        "papermill": {
          "duration": 0.025215,
          "end_time": "2022-09-17T11:18:22.967136",
          "exception": false,
          "start_time": "2022-09-17T11:18:22.941921",
          "status": "completed"
        },
        "tags": [],
        "id": "200d3ce2"
      },
      "outputs": [],
      "source": [
        "# we'll initialize each model and store it by name in a dictionary\n",
        "models = {}\n",
        "\n",
        "# Logistic Regression\n",
        "# from sklearn.linear_model import LogisticRegression\n",
        "# models['Logistic Regression'] = LogisticRegression()\n",
        "\n",
        "# Support Vector Machines\n",
        "from sklearn.svm import LinearSVC\n",
        "# models['Support Vector Machines linear'] = LinearSVC()\n",
        "models['Support Vector Machines'] = SVC(kernel='poly')\n",
        "# models['Support Vector Machines RBf'] =  SVC(C=100.0)\n",
        "\n",
        "# # Decision Trees\n",
        "# from sklearn.tree import DecisionTreeClassifier\n",
        "# models['Decision Trees'] = DecisionTreeClassifier(max_depth=3)\n",
        "\n",
        "# # Random Forest\n",
        "# from sklearn.ensemble import RandomForestClassifier\n",
        "# models['Random Forest'] = RandomForestClassifier(n_estimators=1)\n",
        "\n",
        "# # Naive Bayes\n",
        "# from sklearn.naive_bayes import GaussianNB\n",
        "# models['Naive Bayes'] = GaussianNB()\n",
        "\n",
        "# K-Nearest Neighbors\n",
        "from sklearn.neighbors import KNeighborsClassifier\n",
        "models['K-Nearest Neighbor'] = KNeighborsClassifier(n_neighbors=20)\n",
        "\n"
      ]
    },
    {
      "cell_type": "code",
      "execution_count": 120,
      "id": "6faa18be",
      "metadata": {
        "execution": {
          "iopub.execute_input": "2022-09-17T11:18:22.994775Z",
          "iopub.status.busy": "2022-09-17T11:18:22.994396Z",
          "iopub.status.idle": "2022-09-17T11:27:55.669017Z",
          "shell.execute_reply": "2022-09-17T11:27:55.667893Z"
        },
        "papermill": {
          "duration": 572.691664,
          "end_time": "2022-09-17T11:27:55.671926",
          "exception": false,
          "start_time": "2022-09-17T11:18:22.980262",
          "status": "completed"
        },
        "tags": [],
        "id": "6faa18be"
      },
      "outputs": [],
      "source": [
        "# we'll loop over each one, train it by calling .fit(), make predictions, calculate metrics, and store each result in a dictionary.\n",
        "\n",
        "from sklearn.metrics import accuracy_score, precision_score, recall_score\n",
        "\n",
        "accuracy, precision, recall = {}, {}, {}\n",
        "\n",
        "for key in models.keys():\n",
        "    \n",
        "    # Fit the classifier\n",
        "    models[key].fit(x_train, y_train)\n",
        "    \n",
        "    # Make predictions\n",
        "    predictions = models[key].predict(x_test)\n",
        "    \n",
        "    # Calculate metrics\n",
        "    accuracy[key] = accuracy_score(predictions, y_test)\n",
        "    precision[key] = precision_score(predictions, y_test)\n",
        "    recall[key] = recall_score(predictions, y_test)"
      ]
    },
    {
      "cell_type": "code",
      "execution_count": 121,
      "id": "0066098d",
      "metadata": {
        "execution": {
          "iopub.execute_input": "2022-09-17T11:27:55.700234Z",
          "iopub.status.busy": "2022-09-17T11:27:55.699796Z",
          "iopub.status.idle": "2022-09-17T11:27:55.716042Z",
          "shell.execute_reply": "2022-09-17T11:27:55.714749Z"
        },
        "papermill": {
          "duration": 0.032852,
          "end_time": "2022-09-17T11:27:55.718494",
          "exception": false,
          "start_time": "2022-09-17T11:27:55.685642",
          "status": "completed"
        },
        "tags": [],
        "colab": {
          "base_uri": "https://localhost:8080/",
          "height": 112
        },
        "id": "0066098d",
        "outputId": "327dbcba-59d3-49a0-f8af-cc25284c02b4"
      },
      "outputs": [
        {
          "output_type": "execute_result",
          "data": {
            "text/plain": [
              "                         Accuracy  Precision    Recall\n",
              "Support Vector Machines  0.998749   0.999157  0.998315\n",
              "K-Nearest Neighbor       0.997499   0.995784  0.999154"
            ],
            "text/html": [
              "\n",
              "  <div id=\"df-55a5a251-724a-4899-9d33-a8d0c0a6c41e\">\n",
              "    <div class=\"colab-df-container\">\n",
              "      <div>\n",
              "<style scoped>\n",
              "    .dataframe tbody tr th:only-of-type {\n",
              "        vertical-align: middle;\n",
              "    }\n",
              "\n",
              "    .dataframe tbody tr th {\n",
              "        vertical-align: top;\n",
              "    }\n",
              "\n",
              "    .dataframe thead th {\n",
              "        text-align: right;\n",
              "    }\n",
              "</style>\n",
              "<table border=\"1\" class=\"dataframe\">\n",
              "  <thead>\n",
              "    <tr style=\"text-align: right;\">\n",
              "      <th></th>\n",
              "      <th>Accuracy</th>\n",
              "      <th>Precision</th>\n",
              "      <th>Recall</th>\n",
              "    </tr>\n",
              "  </thead>\n",
              "  <tbody>\n",
              "    <tr>\n",
              "      <th>Support Vector Machines</th>\n",
              "      <td>0.998749</td>\n",
              "      <td>0.999157</td>\n",
              "      <td>0.998315</td>\n",
              "    </tr>\n",
              "    <tr>\n",
              "      <th>K-Nearest Neighbor</th>\n",
              "      <td>0.997499</td>\n",
              "      <td>0.995784</td>\n",
              "      <td>0.999154</td>\n",
              "    </tr>\n",
              "  </tbody>\n",
              "</table>\n",
              "</div>\n",
              "      <button class=\"colab-df-convert\" onclick=\"convertToInteractive('df-55a5a251-724a-4899-9d33-a8d0c0a6c41e')\"\n",
              "              title=\"Convert this dataframe to an interactive table.\"\n",
              "              style=\"display:none;\">\n",
              "        \n",
              "  <svg xmlns=\"http://www.w3.org/2000/svg\" height=\"24px\"viewBox=\"0 0 24 24\"\n",
              "       width=\"24px\">\n",
              "    <path d=\"M0 0h24v24H0V0z\" fill=\"none\"/>\n",
              "    <path d=\"M18.56 5.44l.94 2.06.94-2.06 2.06-.94-2.06-.94-.94-2.06-.94 2.06-2.06.94zm-11 1L8.5 8.5l.94-2.06 2.06-.94-2.06-.94L8.5 2.5l-.94 2.06-2.06.94zm10 10l.94 2.06.94-2.06 2.06-.94-2.06-.94-.94-2.06-.94 2.06-2.06.94z\"/><path d=\"M17.41 7.96l-1.37-1.37c-.4-.4-.92-.59-1.43-.59-.52 0-1.04.2-1.43.59L10.3 9.45l-7.72 7.72c-.78.78-.78 2.05 0 2.83L4 21.41c.39.39.9.59 1.41.59.51 0 1.02-.2 1.41-.59l7.78-7.78 2.81-2.81c.8-.78.8-2.07 0-2.86zM5.41 20L4 18.59l7.72-7.72 1.47 1.35L5.41 20z\"/>\n",
              "  </svg>\n",
              "      </button>\n",
              "      \n",
              "  <style>\n",
              "    .colab-df-container {\n",
              "      display:flex;\n",
              "      flex-wrap:wrap;\n",
              "      gap: 12px;\n",
              "    }\n",
              "\n",
              "    .colab-df-convert {\n",
              "      background-color: #E8F0FE;\n",
              "      border: none;\n",
              "      border-radius: 50%;\n",
              "      cursor: pointer;\n",
              "      display: none;\n",
              "      fill: #1967D2;\n",
              "      height: 32px;\n",
              "      padding: 0 0 0 0;\n",
              "      width: 32px;\n",
              "    }\n",
              "\n",
              "    .colab-df-convert:hover {\n",
              "      background-color: #E2EBFA;\n",
              "      box-shadow: 0px 1px 2px rgba(60, 64, 67, 0.3), 0px 1px 3px 1px rgba(60, 64, 67, 0.15);\n",
              "      fill: #174EA6;\n",
              "    }\n",
              "\n",
              "    [theme=dark] .colab-df-convert {\n",
              "      background-color: #3B4455;\n",
              "      fill: #D2E3FC;\n",
              "    }\n",
              "\n",
              "    [theme=dark] .colab-df-convert:hover {\n",
              "      background-color: #434B5C;\n",
              "      box-shadow: 0px 1px 3px 1px rgba(0, 0, 0, 0.15);\n",
              "      filter: drop-shadow(0px 1px 2px rgba(0, 0, 0, 0.3));\n",
              "      fill: #FFFFFF;\n",
              "    }\n",
              "  </style>\n",
              "\n",
              "      <script>\n",
              "        const buttonEl =\n",
              "          document.querySelector('#df-55a5a251-724a-4899-9d33-a8d0c0a6c41e button.colab-df-convert');\n",
              "        buttonEl.style.display =\n",
              "          google.colab.kernel.accessAllowed ? 'block' : 'none';\n",
              "\n",
              "        async function convertToInteractive(key) {\n",
              "          const element = document.querySelector('#df-55a5a251-724a-4899-9d33-a8d0c0a6c41e');\n",
              "          const dataTable =\n",
              "            await google.colab.kernel.invokeFunction('convertToInteractive',\n",
              "                                                     [key], {});\n",
              "          if (!dataTable) return;\n",
              "\n",
              "          const docLinkHtml = 'Like what you see? Visit the ' +\n",
              "            '<a target=\"_blank\" href=https://colab.research.google.com/notebooks/data_table.ipynb>data table notebook</a>'\n",
              "            + ' to learn more about interactive tables.';\n",
              "          element.innerHTML = '';\n",
              "          dataTable['output_type'] = 'display_data';\n",
              "          await google.colab.output.renderOutput(dataTable, element);\n",
              "          const docLink = document.createElement('div');\n",
              "          docLink.innerHTML = docLinkHtml;\n",
              "          element.appendChild(docLink);\n",
              "        }\n",
              "      </script>\n",
              "    </div>\n",
              "  </div>\n",
              "  "
            ]
          },
          "metadata": {},
          "execution_count": 121
        }
      ],
      "source": [
        "df_model = pd.DataFrame(index=models.keys(), columns=['Accuracy', 'Precision', 'Recall'])\n",
        "df_model['Accuracy'] = accuracy.values()\n",
        "df_model['Precision'] = precision.values()\n",
        "df_model['Recall'] = recall.values()\n",
        "\n",
        "df_model"
      ]
    },
    {
      "cell_type": "code",
      "execution_count": 122,
      "id": "f70f11ea",
      "metadata": {
        "execution": {
          "iopub.execute_input": "2022-09-17T11:27:55.747157Z",
          "iopub.status.busy": "2022-09-17T11:27:55.746726Z",
          "iopub.status.idle": "2022-09-17T11:27:55.997157Z",
          "shell.execute_reply": "2022-09-17T11:27:55.995980Z"
        },
        "papermill": {
          "duration": 0.26749,
          "end_time": "2022-09-17T11:27:55.999691",
          "exception": false,
          "start_time": "2022-09-17T11:27:55.732201",
          "status": "completed"
        },
        "tags": [],
        "colab": {
          "base_uri": "https://localhost:8080/",
          "height": 297
        },
        "id": "f70f11ea",
        "outputId": "f75d443a-09e9-425a-e80b-1043ea002d8a"
      },
      "outputs": [
        {
          "output_type": "display_data",
          "data": {
            "text/plain": [
              "<Figure size 432x288 with 1 Axes>"
            ],
            "image/png": "[encoded data removed]"
          },
          "metadata": {
            "needs_background": "light"
          }
        }
      ],
      "source": [
        "ax = df_model.plot.barh()\n",
        "ax.legend(\n",
        "    ncol=len(models.keys()), \n",
        "    bbox_to_anchor=(0, 1), \n",
        "    loc='lower left', \n",
        "    prop={'size': 14}\n",
        ")\n",
        "plt.tight_layout()"
      ]
    },
    {
      "cell_type": "code",
      "execution_count": 128,
      "id": "405117c0",
      "metadata": {
        "execution": {
          "iopub.execute_input": "2022-09-17T11:27:56.029200Z",
          "iopub.status.busy": "2022-09-17T11:27:56.028778Z",
          "iopub.status.idle": "2022-09-17T11:28:30.915077Z",
          "shell.execute_reply": "2022-09-17T11:28:30.913819Z"
        },
        "papermill": {
          "duration": 34.903879,
          "end_time": "2022-09-17T11:28:30.917498",
          "exception": false,
          "start_time": "2022-09-17T11:27:56.013619",
          "status": "completed"
        },
        "tags": [],
        "id": "405117c0"
      },
      "outputs": [],
      "source": [
        "# from sklearn.metrics import plot_roc_curve\n",
        "# from scikitplot.metrics import plot_roc_curve\n",
        "# for key in models.keys():\n",
        "#     plot_roc_curve( models[key], x_test, y_test)"
      ]
    },
    {
      "cell_type": "markdown",
      "id": "0862fa5b",
      "metadata": {
        "papermill": {
          "duration": 0.015913,
          "end_time": "2022-09-17T11:28:30.949839",
          "exception": false,
          "start_time": "2022-09-17T11:28:30.933926",
          "status": "completed"
        },
        "tags": [],
        "id": "0862fa5b"
      },
      "source": [
        "### As we can see Randon forest and Decision tree classifiers are the best calssifiers for our data "
      ]
    },
    {
      "cell_type": "code",
      "execution_count": null,
      "id": "508ae3ed",
      "metadata": {
        "papermill": {
          "duration": 0.015738,
          "end_time": "2022-09-17T11:28:30.981647",
          "exception": false,
          "start_time": "2022-09-17T11:28:30.965909",
          "status": "completed"
        },
        "tags": [],
        "id": "508ae3ed"
      },
      "outputs": [],
      "source": []
    }
  ],
  "metadata": {
    "kernelspec": {
      "display_name": "Python 3",
      "language": "python",
      "name": "python3"
    },
    "language_info": {
      "codemirror_mode": {
        "name": "ipython",
        "version": 3
      },
      "file_extension": ".py",
      "mimetype": "text/x-python",
      "name": "python",
      "nbconvert_exporter": "python",
      "pygments_lexer": "ipython3",
      "version": "3.7.12"
    },
    "papermill": {
      "default_parameters": {},
      "duration": 687.176942,
      "end_time": "2022-09-17T11:28:31.820797",
      "environment_variables": {},
      "exception": null,
      "input_path": "__notebook__.ipynb",
      "output_path": "__notebook__.ipynb",
      "parameters": {},
      "start_time": "2022-09-17T11:17:04.643855",
      "version": "2.3.4"
    },
    "colab": {
      "provenance": []
    }
  },
  "nbformat": 4,
  "nbformat_minor": 5
}